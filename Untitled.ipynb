{
 "cells": [
  {
   "cell_type": "code",
   "execution_count": 1,
   "id": "f0b56258",
   "metadata": {},
   "outputs": [
    {
     "name": "stdout",
     "output_type": "stream",
     "text": [
      "[]\n",
      "                           0\n",
      "number_ of_syllables     106\n",
      "number_of_pauses          10\n",
      "rate_of_speech             4\n",
      "articulation_rate          5\n",
      "speaking_duration         21\n",
      "original_duration         30\n",
      "balance                  0.7\n",
      "f0_mean               190.29\n",
      "f0_std                 52.83\n",
      "f0_median              197.5\n",
      "f0_min                    77\n",
      "f0_max                   385\n",
      "f0_quantile25            171\n",
      "f0_quan75                221\n"
     ]
    }
   ],
   "source": [
    "import myprosody as mysp\n",
    "import pickle\n",
    "\n",
    "p=\"E1_P4\" \n",
    "c=r\"C:/Users/Dilakshana/new_FYP_project/fyp_1.0_process/myprosody\"\n",
    "\n",
    "# Overview\n",
    "mysp.mysptotal(p,c)"
   ]
  },
  {
   "cell_type": "code",
   "execution_count": 2,
   "id": "6665bce6",
   "metadata": {},
   "outputs": [
    {
     "name": "stdout",
     "output_type": "stream",
     "text": [
      "[]\n",
      "a female, mood of speech: Showing no emotion, normal, p-value/sample size= :0.00 5\n"
     ]
    }
   ],
   "source": [
    "# Gender recognition and mood of speech\n",
    "mysp.myspgend(p,c)"
   ]
  },
  {
   "cell_type": "code",
   "execution_count": 3,
   "id": "fa703e41",
   "metadata": {},
   "outputs": [
    {
     "name": "stdout",
     "output_type": "stream",
     "text": [
      "[]\n",
      "number_ of_syllables= 106\n"
     ]
    }
   ],
   "source": [
    "#  Detect and count number of syllables\n",
    "mysp.myspsyl(p,c)"
   ]
  },
  {
   "cell_type": "code",
   "execution_count": 4,
   "id": "5470a4e6",
   "metadata": {},
   "outputs": [
    {
     "name": "stdout",
     "output_type": "stream",
     "text": [
      "[]\n",
      "number_of_pauses= 10\n"
     ]
    }
   ],
   "source": [
    "# Detect and count number of fillers and pauses\n",
    "mysp.mysppaus(p,c)"
   ]
  },
  {
   "cell_type": "code",
   "execution_count": 5,
   "id": "a521273a",
   "metadata": {},
   "outputs": [
    {
     "name": "stdout",
     "output_type": "stream",
     "text": [
      "[]\n",
      "rate_of_speech= 4 # syllables/sec original duration\n"
     ]
    }
   ],
   "source": [
    "# Measure the rate of speech (speed)\n",
    "mysp.myspsr(p,c)"
   ]
  },
  {
   "cell_type": "code",
   "execution_count": 6,
   "id": "3b57686f",
   "metadata": {},
   "outputs": [
    {
     "name": "stdout",
     "output_type": "stream",
     "text": [
      "[]\n",
      "articulation_rate= 5 # syllables/sec speaking duration\n"
     ]
    }
   ],
   "source": [
    "# Measure the articulation (speed)\n",
    "mysp.myspatc(p,c)"
   ]
  },
  {
   "cell_type": "code",
   "execution_count": 7,
   "id": "0d8d593a",
   "metadata": {},
   "outputs": [
    {
     "name": "stdout",
     "output_type": "stream",
     "text": [
      "[]\n",
      "speaking_duration= 21.0 # sec only speaking duration without pauses\n"
     ]
    }
   ],
   "source": [
    "# Measure speaking time (excl. fillers and pause)\n",
    "mysp.myspst(p,c)"
   ]
  },
  {
   "cell_type": "code",
   "execution_count": 8,
   "id": "233a4bfb",
   "metadata": {},
   "outputs": [
    {
     "name": "stdout",
     "output_type": "stream",
     "text": [
      "[]\n",
      "original_duration= 30.0 # sec total speaking duration with pauses\n"
     ]
    }
   ],
   "source": [
    "# Measure total speaking duration (inc. fillers and pauses)\n",
    "mysp.myspod(p,c)"
   ]
  },
  {
   "cell_type": "code",
   "execution_count": 9,
   "id": "ac5642e5",
   "metadata": {},
   "outputs": [
    {
     "name": "stdout",
     "output_type": "stream",
     "text": [
      "[]\n",
      "balance= 0.7 # ratio (speaking duration)/(original duration)\n"
     ]
    }
   ],
   "source": [
    "# Measure ratio between speaking duration and total speaking duration\n",
    "mysp.myspbala(p,c)"
   ]
  },
  {
   "cell_type": "code",
   "execution_count": 10,
   "id": "8d44d8f1",
   "metadata": {},
   "outputs": [
    {
     "name": "stdout",
     "output_type": "stream",
     "text": [
      "[]\n",
      "f0_mean= 190.29 # Hz global mean of fundamental frequency distribution\n"
     ]
    }
   ],
   "source": [
    "# Measure fundamental frequency distribution mean\n",
    "mysp.myspf0mean(p,c)"
   ]
  },
  {
   "cell_type": "code",
   "execution_count": 11,
   "id": "4baddc68",
   "metadata": {},
   "outputs": [
    {
     "name": "stdout",
     "output_type": "stream",
     "text": [
      "[]\n",
      "f0_SD= 52.83 # Hz global standard deviation of fundamental frequency distribution\n"
     ]
    }
   ],
   "source": [
    "# Measure fundamental frequency distribution SD\n",
    "mysp.myspf0sd(p,c)"
   ]
  },
  {
   "cell_type": "code",
   "execution_count": 12,
   "id": "c2ac36f9",
   "metadata": {},
   "outputs": [
    {
     "name": "stdout",
     "output_type": "stream",
     "text": [
      "[]\n",
      "f0_MD= 197.5 # Hz global median of fundamental frequency distribution\n"
     ]
    }
   ],
   "source": [
    "# Measure fundamental frequency distribution median\n",
    "mysp.myspf0med(p,c)"
   ]
  },
  {
   "cell_type": "code",
   "execution_count": 13,
   "id": "d7c4abca",
   "metadata": {},
   "outputs": [
    {
     "name": "stdout",
     "output_type": "stream",
     "text": [
      "[]\n",
      "f0_min= 77 # Hz global minimum of fundamental frequency distribution\n"
     ]
    }
   ],
   "source": [
    "# Measure fundamental frequency distribution minimum\n",
    "mysp.myspf0min(p,c)"
   ]
  },
  {
   "cell_type": "code",
   "execution_count": 14,
   "id": "40579dc4",
   "metadata": {},
   "outputs": [
    {
     "name": "stdout",
     "output_type": "stream",
     "text": [
      "[]\n",
      "f0_max= 385 # Hz global maximum of fundamental frequency distribution\n"
     ]
    }
   ],
   "source": [
    "# Measure fundamental frequency distribution maximum\n",
    "mysp.myspf0max(p,c)"
   ]
  },
  {
   "cell_type": "code",
   "execution_count": 15,
   "id": "59df3aaf",
   "metadata": {},
   "outputs": [
    {
     "name": "stdout",
     "output_type": "stream",
     "text": [
      "[]\n",
      "f0_quan25= 171 # Hz global 25th quantile of fundamental frequency distribution\n"
     ]
    }
   ],
   "source": [
    "# Measure 25th quantile fundamental frequency distribution\n",
    "mysp.myspf0q25(p,c)"
   ]
  },
  {
   "cell_type": "code",
   "execution_count": 16,
   "id": "b002f09f",
   "metadata": {},
   "outputs": [
    {
     "name": "stdout",
     "output_type": "stream",
     "text": [
      "[]\n",
      "f0_quan75= 221 # Hz global 75th quantile of fundamental frequency distribution\n"
     ]
    }
   ],
   "source": [
    "# Measure 75th quantile fundamental frequency distribution\n",
    "mysp.myspf0q75(p,c)"
   ]
  },
  {
   "cell_type": "code",
   "execution_count": 17,
   "id": "16c19c37",
   "metadata": {},
   "outputs": [
    {
     "name": "stdout",
     "output_type": "stream",
     "text": [
      "[]\n",
      "Pronunciation_posteriori_probability_score_percentage= :95.05\n"
     ]
    }
   ],
   "source": [
    "# Pronunciation posteriori probability score percentage\n",
    "mysp.mysppron(p,c)"
   ]
  },
  {
   "cell_type": "code",
   "execution_count": 18,
   "id": "36bfba1e",
   "metadata": {},
   "outputs": [
    {
     "ename": "PraatError",
     "evalue": "Stray text after 'else'.\r\nScript line 332 not performed or completed:\r\n« else vowel1=vowel1+0 »\r\nScript not completed.\r",
     "output_type": "error",
     "traceback": [
      "\u001b[1;31m---------------------------------------------------------------------------\u001b[0m",
      "\u001b[1;31mPraatError\u001b[0m                                Traceback (most recent call last)",
      "\u001b[1;32m<ipython-input-18-65e91acb1639>\u001b[0m in \u001b[0;36m<module>\u001b[1;34m\u001b[0m\n\u001b[0;32m      1\u001b[0m \u001b[1;31m#  Compared to native speech, here are the prosodic features of your speech\u001b[0m\u001b[1;33m\u001b[0m\u001b[1;33m\u001b[0m\u001b[1;33m\u001b[0m\u001b[0m\n\u001b[1;32m----> 2\u001b[1;33m \u001b[0mmysp\u001b[0m\u001b[1;33m.\u001b[0m\u001b[0mmyprosody\u001b[0m\u001b[1;33m(\u001b[0m\u001b[0mp\u001b[0m\u001b[1;33m,\u001b[0m\u001b[0mc\u001b[0m\u001b[1;33m)\u001b[0m\u001b[1;33m\u001b[0m\u001b[1;33m\u001b[0m\u001b[0m\n\u001b[0m",
      "\u001b[1;32m~\\anaconda3\\envs\\project_fyp\\lib\\site-packages\\myprosody\\__init__.py\u001b[0m in \u001b[0;36mmyprosody\u001b[1;34m(m, p)\u001b[0m\n\u001b[0;32m    367\u001b[0m     \u001b[0mfiles\u001b[0m \u001b[1;33m=\u001b[0m \u001b[0mglob\u001b[0m\u001b[1;33m.\u001b[0m\u001b[0mglob\u001b[0m\u001b[1;33m(\u001b[0m\u001b[0mpath\u001b[0m\u001b[1;33m)\u001b[0m\u001b[1;33m\u001b[0m\u001b[1;33m\u001b[0m\u001b[0m\n\u001b[0;32m    368\u001b[0m     \u001b[0mresult_array\u001b[0m \u001b[1;33m=\u001b[0m \u001b[0mnp\u001b[0m\u001b[1;33m.\u001b[0m\u001b[0mempty\u001b[0m\u001b[1;33m(\u001b[0m\u001b[1;33m(\u001b[0m\u001b[1;36m0\u001b[0m\u001b[1;33m,\u001b[0m \u001b[1;36m27\u001b[0m\u001b[1;33m)\u001b[0m\u001b[1;33m)\u001b[0m\u001b[1;33m\u001b[0m\u001b[1;33m\u001b[0m\u001b[0m\n\u001b[1;32m--> 369\u001b[1;33m     \u001b[0mobjects\u001b[0m\u001b[1;33m=\u001b[0m \u001b[0mrun_file\u001b[0m\u001b[1;33m(\u001b[0m\u001b[0msourcerun\u001b[0m\u001b[1;33m,\u001b[0m \u001b[1;33m-\u001b[0m\u001b[1;36m20\u001b[0m\u001b[1;33m,\u001b[0m \u001b[1;36m2\u001b[0m\u001b[1;33m,\u001b[0m \u001b[1;36m0.3\u001b[0m\u001b[1;33m,\u001b[0m \u001b[1;34m\"yes\"\u001b[0m\u001b[1;33m,\u001b[0m\u001b[0msound\u001b[0m\u001b[1;33m,\u001b[0m\u001b[0mpath\u001b[0m\u001b[1;33m,\u001b[0m \u001b[1;36m80\u001b[0m\u001b[1;33m,\u001b[0m \u001b[1;36m400\u001b[0m\u001b[1;33m,\u001b[0m \u001b[1;36m0.01\u001b[0m\u001b[1;33m,\u001b[0m \u001b[0mcapture_output\u001b[0m\u001b[1;33m=\u001b[0m\u001b[1;32mTrue\u001b[0m\u001b[1;33m)\u001b[0m\u001b[1;33m\u001b[0m\u001b[1;33m\u001b[0m\u001b[0m\n\u001b[0m\u001b[0;32m    370\u001b[0m     \u001b[0mz1\u001b[0m\u001b[1;33m=\u001b[0m\u001b[1;33m(\u001b[0m \u001b[0mobjects\u001b[0m\u001b[1;33m[\u001b[0m\u001b[1;36m1\u001b[0m\u001b[1;33m]\u001b[0m\u001b[1;33m)\u001b[0m \u001b[1;31m# This will print the info from the textgrid object, and objects[1] is a parselmouth.Data object with a TextGrid inside\u001b[0m\u001b[1;33m\u001b[0m\u001b[1;33m\u001b[0m\u001b[0m\n\u001b[0;32m    371\u001b[0m     \u001b[0mz3\u001b[0m\u001b[1;33m=\u001b[0m\u001b[0mz1\u001b[0m\u001b[1;33m.\u001b[0m\u001b[0mstrip\u001b[0m\u001b[1;33m(\u001b[0m\u001b[1;33m)\u001b[0m\u001b[1;33m.\u001b[0m\u001b[0msplit\u001b[0m\u001b[1;33m(\u001b[0m\u001b[1;33m)\u001b[0m\u001b[1;33m\u001b[0m\u001b[1;33m\u001b[0m\u001b[0m\n",
      "\u001b[1;31mPraatError\u001b[0m: Stray text after 'else'.\r\nScript line 332 not performed or completed:\r\n« else vowel1=vowel1+0 »\r\nScript not completed.\r"
     ]
    }
   ],
   "source": [
    "#  Compared to native speech, here are the prosodic features of your speech\n",
    "mysp.myprosody(p,c)"
   ]
  },
  {
   "cell_type": "code",
   "execution_count": null,
   "id": "042c03a2",
   "metadata": {},
   "outputs": [],
   "source": [
    "# Spoken Language Proficiency Level estimator, \n",
    "# based on Machine Learning models of the prosodic features of your speech\n",
    "mysp.mysplev(p,c)"
   ]
  },
  {
   "cell_type": "code",
   "execution_count": null,
   "id": "970396bd",
   "metadata": {},
   "outputs": [],
   "source": []
  }
 ],
 "metadata": {
  "kernelspec": {
   "display_name": "Python 3",
   "language": "python",
   "name": "python3"
  },
  "language_info": {
   "codemirror_mode": {
    "name": "ipython",
    "version": 3
   },
   "file_extension": ".py",
   "mimetype": "text/x-python",
   "name": "python",
   "nbconvert_exporter": "python",
   "pygments_lexer": "ipython3",
   "version": "3.7.10"
  }
 },
 "nbformat": 4,
 "nbformat_minor": 5
}
